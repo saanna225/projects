{
 "cells": [
  {
   "cell_type": "code",
   "execution_count": 1,
   "metadata": {},
   "outputs": [],
   "source": [
    "#importing libraries\n",
    "import numpy as np\n",
    "import matplotlib.pyplot as plt\n",
    "import pandas as pd\n",
    "from sklearn.tree import DecisionTreeClassifier\n",
    "import joblib"
   ]
  },
  {
   "cell_type": "code",
   "execution_count": 2,
   "metadata": {},
   "outputs": [
    {
     "data": {
      "text/html": [
       "<div>\n",
       "<style scoped>\n",
       "    .dataframe tbody tr th:only-of-type {\n",
       "        vertical-align: middle;\n",
       "    }\n",
       "\n",
       "    .dataframe tbody tr th {\n",
       "        vertical-align: top;\n",
       "    }\n",
       "\n",
       "    .dataframe thead th {\n",
       "        text-align: right;\n",
       "    }\n",
       "</style>\n",
       "<table border=\"1\" class=\"dataframe\">\n",
       "  <thead>\n",
       "    <tr style=\"text-align: right;\">\n",
       "      <th></th>\n",
       "      <th>FNC1</th>\n",
       "      <th>FNC2</th>\n",
       "      <th>FNC3</th>\n",
       "      <th>FNC4</th>\n",
       "      <th>FNC5</th>\n",
       "      <th>FNC6</th>\n",
       "      <th>FNC7</th>\n",
       "      <th>FNC8</th>\n",
       "      <th>FNC9</th>\n",
       "      <th>FNC10</th>\n",
       "      <th>Class</th>\n",
       "    </tr>\n",
       "  </thead>\n",
       "  <tbody>\n",
       "    <tr>\n",
       "      <th>0</th>\n",
       "      <td>0.34312</td>\n",
       "      <td>0.045761</td>\n",
       "      <td>-0.13112</td>\n",
       "      <td>0.15034</td>\n",
       "      <td>0.18082</td>\n",
       "      <td>0.289160</td>\n",
       "      <td>0.069545</td>\n",
       "      <td>-0.052489</td>\n",
       "      <td>0.124000</td>\n",
       "      <td>0.477620</td>\n",
       "      <td>1</td>\n",
       "    </tr>\n",
       "    <tr>\n",
       "      <th>1</th>\n",
       "      <td>0.28790</td>\n",
       "      <td>0.102570</td>\n",
       "      <td>-0.32343</td>\n",
       "      <td>-0.22776</td>\n",
       "      <td>0.12328</td>\n",
       "      <td>0.367020</td>\n",
       "      <td>-0.084040</td>\n",
       "      <td>0.038793</td>\n",
       "      <td>-0.006287</td>\n",
       "      <td>0.101690</td>\n",
       "      <td>0</td>\n",
       "    </tr>\n",
       "    <tr>\n",
       "      <th>2</th>\n",
       "      <td>0.24585</td>\n",
       "      <td>0.216620</td>\n",
       "      <td>-0.12468</td>\n",
       "      <td>-0.35380</td>\n",
       "      <td>0.16150</td>\n",
       "      <td>-0.002032</td>\n",
       "      <td>-0.133020</td>\n",
       "      <td>-0.035222</td>\n",
       "      <td>0.259040</td>\n",
       "      <td>-0.045302</td>\n",
       "      <td>0</td>\n",
       "    </tr>\n",
       "    <tr>\n",
       "      <th>3</th>\n",
       "      <td>0.42090</td>\n",
       "      <td>0.331380</td>\n",
       "      <td>0.24453</td>\n",
       "      <td>0.17167</td>\n",
       "      <td>0.59223</td>\n",
       "      <td>0.431050</td>\n",
       "      <td>0.280290</td>\n",
       "      <td>0.289620</td>\n",
       "      <td>0.356800</td>\n",
       "      <td>0.286340</td>\n",
       "      <td>0</td>\n",
       "    </tr>\n",
       "    <tr>\n",
       "      <th>4</th>\n",
       "      <td>-0.14621</td>\n",
       "      <td>-0.468630</td>\n",
       "      <td>-0.52880</td>\n",
       "      <td>-0.50381</td>\n",
       "      <td>-0.51052</td>\n",
       "      <td>-0.029113</td>\n",
       "      <td>-0.015192</td>\n",
       "      <td>0.360170</td>\n",
       "      <td>0.005944</td>\n",
       "      <td>0.024801</td>\n",
       "      <td>1</td>\n",
       "    </tr>\n",
       "  </tbody>\n",
       "</table>\n",
       "</div>"
      ],
      "text/plain": [
       "      FNC1      FNC2     FNC3     FNC4     FNC5      FNC6      FNC7      FNC8  \\\n",
       "0  0.34312  0.045761 -0.13112  0.15034  0.18082  0.289160  0.069545 -0.052489   \n",
       "1  0.28790  0.102570 -0.32343 -0.22776  0.12328  0.367020 -0.084040  0.038793   \n",
       "2  0.24585  0.216620 -0.12468 -0.35380  0.16150 -0.002032 -0.133020 -0.035222   \n",
       "3  0.42090  0.331380  0.24453  0.17167  0.59223  0.431050  0.280290  0.289620   \n",
       "4 -0.14621 -0.468630 -0.52880 -0.50381 -0.51052 -0.029113 -0.015192  0.360170   \n",
       "\n",
       "       FNC9     FNC10  Class  \n",
       "0  0.124000  0.477620      1  \n",
       "1 -0.006287  0.101690      0  \n",
       "2  0.259040 -0.045302      0  \n",
       "3  0.356800  0.286340      0  \n",
       "4  0.005944  0.024801      1  "
      ]
     },
     "execution_count": 2,
     "metadata": {},
     "output_type": "execute_result"
    }
   ],
   "source": [
    "#importing the dataset\n",
    "dataset = pd.read_csv(\"dataset.csv\")\n",
    "dataset=dataset.drop(dataset.columns[[0]],axis=1) #drop 1st column\n",
    "\n",
    "dataset.head()\n"
   ]
  },
  {
   "cell_type": "code",
   "execution_count": 3,
   "metadata": {},
   "outputs": [],
   "source": [
    "x = dataset.iloc[ : , :-1].values\n",
    "y = dataset.iloc[:, -1:].values\n"
   ]
  },
  {
   "cell_type": "code",
   "execution_count": 4,
   "metadata": {},
   "outputs": [],
   "source": [
    "#spliting the dataset into training set and test set\n",
    "from sklearn.model_selection import train_test_split\n",
    "x_train, x_test, y_train, y_test = train_test_split(x,y,test_size = 0.25, random_state =0 )"
   ]
  },
  {
   "cell_type": "code",
   "execution_count": 5,
   "metadata": {},
   "outputs": [
    {
     "data": {
      "text/plain": [
       "DecisionTreeClassifier(random_state=0)"
      ]
     },
     "execution_count": 5,
     "metadata": {},
     "output_type": "execute_result"
    }
   ],
   "source": [
    "#fitting logistic regression \n",
    "classifier = DecisionTreeClassifier(random_state = 0)\n",
    "classifier.fit(x_train, y_train)\n"
   ]
  },
  {
   "cell_type": "code",
   "execution_count": 6,
   "metadata": {},
   "outputs": [],
   "source": [
    "#predicting the tests set result\n",
    "y_pred = classifier.predict(x_test)"
   ]
  },
  {
   "cell_type": "code",
   "execution_count": 7,
   "metadata": {},
   "outputs": [],
   "source": [
    "#According to the cross-validated MCC scores, the random forest is the best-performing model, so now let's evaluate its performance on the test set.\n",
    "from sklearn.metrics import confusion_matrix, classification_report, matthews_corrcoef, cohen_kappa_score, accuracy_score, average_precision_score, roc_auc_score"
   ]
  },
  {
   "cell_type": "code",
   "execution_count": 8,
   "metadata": {},
   "outputs": [
    {
     "name": "stdout",
     "output_type": "stream",
     "text": [
      "\n",
      "Classification report of Logistic Regression Results:\n",
      "\n",
      "              precision    recall  f1-score   support\n",
      "\n",
      "           0       0.38      0.71      0.50         7\n",
      "           1       0.78      0.47      0.58        15\n",
      "\n",
      "    accuracy                           0.55        22\n",
      "   macro avg       0.58      0.59      0.54        22\n",
      "weighted avg       0.65      0.55      0.56        22\n",
      "\n"
     ]
    }
   ],
   "source": [
    "print(\"\")\n",
    "print('Classification report of Logistic Regression Results:')\n",
    "print(\"\")\n",
    "\n",
    "print(classification_report(y_test,y_pred))\n",
    "\n"
   ]
  },
  {
   "cell_type": "code",
   "execution_count": 9,
   "metadata": {},
   "outputs": [
    {
     "name": "stdout",
     "output_type": "stream",
     "text": [
      "Accuracy result of Logistic Regression is: 54.54545454545454\n"
     ]
    }
   ],
   "source": [
    "x = (accuracy_score(y_test,y_pred)*100)\n",
    "\n",
    "print('Accuracy result of Logistic Regression is:', x)"
   ]
  },
  {
   "cell_type": "code",
   "execution_count": 10,
   "metadata": {},
   "outputs": [
    {
     "name": "stdout",
     "output_type": "stream",
     "text": [
      "[[5 2]\n",
      " [8 7]]\n"
     ]
    }
   ],
   "source": [
    "#confusion matrix\n",
    "from sklearn.metrics import confusion_matrix\n",
    "cm1 = confusion_matrix(y_test, y_pred)\n",
    "print(cm1)"
   ]
  },
  {
   "cell_type": "code",
   "execution_count": 11,
   "metadata": {},
   "outputs": [
    {
     "name": "stdout",
     "output_type": "stream",
     "text": [
      "Sensitivity :  0.7142857142857143\n"
     ]
    }
   ],
   "source": [
    "sensitivity1 = cm1[0,0]/(cm1[0,0]+cm1[0,1])\n",
    "print('Sensitivity : ', sensitivity1 )"
   ]
  },
  {
   "cell_type": "code",
   "execution_count": 12,
   "metadata": {},
   "outputs": [
    {
     "name": "stdout",
     "output_type": "stream",
     "text": [
      "Specificity :  0.4666666666666667\n"
     ]
    }
   ],
   "source": [
    "specificity1 =  cm1[1,1]/(cm1[1,0]+cm1[1,1])\n",
    "print('Specificity : ', specificity1)"
   ]
  },
  {
   "cell_type": "code",
   "execution_count": 13,
   "metadata": {},
   "outputs": [
    {
     "name": "stdout",
     "output_type": "stream",
     "text": [
      "True Positive : 7\n",
      "True Negative : 5\n",
      "False Positive : 2\n",
      "False Negative : 8\n",
      "\n",
      "True Positive Rate : 0.4666666666666667\n",
      "True Negative Rate : 0.7142857142857143\n",
      "False Positive Rate : 0.2857142857142857\n",
      "False Negative Rate : 0.5333333333333333\n",
      "\n",
      "Positive Predictive Value : 0.7777777777777778\n",
      "Negative predictive value : 0.38461538461538464\n"
     ]
    }
   ],
   "source": [
    "TN = cm1[0][0]\n",
    "FN = cm1[1][0]\n",
    "TP = cm1[1][1]\n",
    "FP = cm1[0][1]\n",
    "print(\"True Positive :\",TP)\n",
    "print(\"True Negative :\",TN)\n",
    "print(\"False Positive :\",FP)\n",
    "print(\"False Negative :\",FN)\n",
    "print(\"\")\n",
    "TPR = TP/(TP+FN)\n",
    "TNR = TN/(TN+FP)\n",
    "FPR = FP/(FP+TN)\n",
    "FNR = FN/(TP+FN)\n",
    "print(\"True Positive Rate :\",TPR)\n",
    "print(\"True Negative Rate :\",TNR)\n",
    "print(\"False Positive Rate :\",FPR)\n",
    "print(\"False Negative Rate :\",FNR)\n",
    "print(\"\")\n",
    "PPV = TP/(TP+FP)\n",
    "NPV = TN/(TN+FN)\n",
    "print(\"Positive Predictive Value :\",PPV)\n",
    "print(\"Negative predictive value :\",NPV)"
   ]
  },
  {
   "cell_type": "code",
   "execution_count": 14,
   "metadata": {},
   "outputs": [
    {
     "data": {
      "text/plain": [
       "['final_models/dt_final.pkl']"
      ]
     },
     "execution_count": 14,
     "metadata": {},
     "output_type": "execute_result"
    }
   ],
   "source": [
    "#pickle file joblib\n",
    "joblib.dump(classifier, 'final_models/dt_final.pkl')"
   ]
  },
  {
   "cell_type": "code",
   "execution_count": null,
   "metadata": {},
   "outputs": [],
   "source": []
  }
 ],
 "metadata": {
  "kernelspec": {
   "display_name": "Python 3",
   "language": "python",
   "name": "python3"
  },
  "language_info": {
   "codemirror_mode": {
    "name": "ipython",
    "version": 3
   },
   "file_extension": ".py",
   "mimetype": "text/x-python",
   "name": "python",
   "nbconvert_exporter": "python",
   "pygments_lexer": "ipython3",
   "version": "3.7.4"
  }
 },
 "nbformat": 4,
 "nbformat_minor": 4
}
